{
 "cells": [
  {
   "cell_type": "code",
   "execution_count": null,
   "metadata": {},
   "outputs": [],
   "source": [
    "import torch\n",
    "import torch.nn as nn\n",
    "from sklearn.preprocessing import RobustScaler, StandardScaler, MinMaxScaler, PowerTransformer, QuantileTransformer, MaxAbsScaler\n",
    "import numpy as np\n",
    "import pandas as pd\n",
    "import matplotlib.pyplot as plt\n",
    "import torch\n",
    "import torch.nn as nn\n",
    "import torch.nn.functional as F\n",
    "%matplotlib inline\n",
    "\n",
    "df = pd.read_csv('../Time Series Data/time_series_covid_19_confirmed_US.csv')\n",
    "df.dropna(inplace = True)\n",
    "x = np.arange('2020-01-22', '2020-04-21', dtype = 'datetime64[D]')\n",
    "#df['Country/Region Code'] = df['Country/Region'].astype('category').cat.codes.values\n",
    "#df['Province/State Code'] =  df['Province/State'].astype('category').cat.codes.values\n",
    "a = df.drop(['UID', 'iso3', 'iso2', 'code3', 'FIPS', 'Admin2', 'Province_State','Country_Region','Lat','Long_', 'Combined_Key'], axis = 1, inplace  = False)\n",
    "df2 = pd.DataFrame()\n",
    "for i,name in enumerate(df['Combined_Key']):\n",
    "    df2[name] = a.iloc[i]\n",
    "df2"
   ]
  },
  {
   "cell_type": "code",
   "execution_count": 2,
   "metadata": {},
   "outputs": [],
   "source": [
    "def plotGraph(name):\n",
    "    plt.figure(figsize = (12,10))\n",
    "    plt.title(name)\n",
    "    plt.plot(df2[name])\n",
    "    plt.autoscale(axis='x',tight=True)\n",
    "    plt.xlim(('3/13/20','4/2/20'))\n",
    "\n",
    "def test_train(name,test_size,num):\n",
    "    m = df2[name].values.astype(float)\n",
    "    train_set = m[num:-test_size]\n",
    "    test_set = m[-test_size:]\n",
    "    return train_set, test_set\n",
    "\n",
    "def input_data(seq,ws):\n",
    "    out = []\n",
    "    L = len(seq)\n",
    "    for i in range(L-ws):\n",
    "        window = seq[i:i+ws]\n",
    "        label = seq[i+ws:i+ws+1]\n",
    "        out.append((window,label))\n",
    "    return out\n",
    "\n",
    "\n",
    "    scaler = PowerTransformer(method='box-cox', standardize=False)\n",
    "    x_norm2 = scaler.fit_transform(train_set.reshape(-1,1))\n",
    "    train_norms = torch.FloatTensor(x_norm2).view(-1)\n",
    "    \n",
    "\n",
    "def training(epoch, train_data, losses):\n",
    "    for i in range(epoch):\n",
    "        for seq,y_train in train_data:\n",
    "            optimizer.zero_grad()\n",
    "            model.hidden = (torch.zeros(1,1,model.hidden_size), torch.zeros(1,1,model.hidden_size))\n",
    "            y_pred = model(seq)\n",
    "            loss = torch.sqrt(criterion(y_pred, y_train))\n",
    "            loss.backward()\n",
    "            optimizer.step()\n",
    "        print(f'epoch: {i} loss: {loss.item()}')\n",
    "        losses.append(loss.item())"
   ]
  },
  {
   "cell_type": "code",
   "execution_count": 3,
   "metadata": {},
   "outputs": [
    {
     "data": {
      "text/plain": [
       "50"
      ]
     },
     "execution_count": 3,
     "metadata": {},
     "output_type": "execute_result"
    },
    {
     "data": {
      "image/png": "[encoded data removed]",
      "text/plain": [
       "<Figure size 864x720 with 1 Axes>"
      ]
     },
     "metadata": {
      "needs_background": "light"
     },
     "output_type": "display_data"
    }
   ],
   "source": [
    "plotGraph('Essex, New Jersey, US')\n",
    "x = []\n",
    "y = 50\n",
    "for num in df2['Essex, New Jersey, US']:\n",
    "    if(num == 0):\n",
    "        x.append(num)\n",
    "if(len(x)>=50):\n",
    "    y = len(x)\n",
    "train_set,test_set = test_train('Essex, New Jersey, US',7,y)\n",
    "len(x)\n"
   ]
  },
  {
   "cell_type": "code",
   "execution_count": 4,
   "metadata": {},
   "outputs": [],
   "source": [
    "class LSTMcell(nn.Module):\n",
    "    def __init__(self, input_size = 1, hidden_size = 1650, output_size = 1):\n",
    "        super().__init__()\n",
    "        self.hidden_size = hidden_size\n",
    "        self.lstm = nn.LSTM(input_size, hidden_size)\n",
    "        self.linear = nn.Linear(hidden_size, output_size)\n",
    "        self.hidden = (torch.zeros(1,1,self.hidden_size).cuda(), torch.zeros(1,1,self.hidden_size))\n",
    "        \n",
    "    def forward(self, seq):\n",
    "        lstm_out, self.hidden = self.lstm(seq.view(len(seq),1,-1), self.hidden)\n",
    "        pred = self.linear(lstm_out.view(len(seq),-1))\n",
    "        return pred[-1]"
   ]
  },
  {
   "cell_type": "code",
   "execution_count": 5,
   "metadata": {},
   "outputs": [
    {
     "data": {
      "text/plain": [
       "LSTMcell(\n",
       "  (lstm): LSTM(1, 1650)\n",
       "  (linear): Linear(in_features=1650, out_features=1, bias=True)\n",
       ")"
      ]
     },
     "execution_count": 5,
     "metadata": {},
     "output_type": "execute_result"
    }
   ],
   "source": [
    "torch.manual_seed(60)\n",
    "model = LSTMcell()\n",
    "criterion = nn.MSELoss()\n",
    "optimizer = torch.optim.Adam(model.parameters(),lr = 0.0001)\n",
    "model"
   ]
  },
  {
   "cell_type": "code",
   "execution_count": 6,
   "metadata": {},
   "outputs": [],
   "source": [
    "scaler = StandardScaler()\n",
    "x_norm2 = scaler.fit_transform(train_set.reshape(-1,1))\n",
    "train_norms = torch.FloatTensor(x_norm2).view(-1)"
   ]
  },
  {
   "cell_type": "code",
   "execution_count": null,
   "metadata": {},
   "outputs": [],
   "source": []
  },
  {
   "cell_type": "code",
   "execution_count": 7,
   "metadata": {},
   "outputs": [
    {
     "data": {
      "text/plain": [
       "LSTMcell(\n",
       "  (lstm): LSTM(1, 1650)\n",
       "  (linear): Linear(in_features=1650, out_features=1, bias=True)\n",
       ")"
      ]
     },
     "execution_count": 7,
     "metadata": {},
     "output_type": "execute_result"
    }
   ],
   "source": [
    "model.load_state_dict(torch.load('../Extra Data/Essex'))\n",
    "model.eval()"
   ]
  },
  {
   "cell_type": "code",
   "execution_count": 8,
   "metadata": {},
   "outputs": [],
   "source": [
    "window_size = 7\n",
    "future = 7\n",
    "pred = train_norms[-window_size:].tolist()\n",
    "for i in range(future):\n",
    "    with torch.no_grad():\n",
    "        seq = torch.FloatTensor(pred[-window_size:])\n",
    "        model.hidden = (torch.zeros(1,1,model.hidden_size), torch.zeros(1,1,model.hidden_size))\n",
    "        pred.append(model(seq).item())"
   ]
  },
  {
   "cell_type": "code",
   "execution_count": 9,
   "metadata": {},
   "outputs": [
    {
     "data": {
      "text/plain": [
       "[3.791309118270874,\n",
       " 5.492214202880859,\n",
       " 7.451582908630371,\n",
       " 9.305092811584473,\n",
       " 10.801518440246582,\n",
       " 12.17676067352295,\n",
       " 13.438097953796387]"
      ]
     },
     "execution_count": 9,
     "metadata": {},
     "output_type": "execute_result"
    }
   ],
   "source": [
    "pred[-7:]"
   ]
  },
  {
   "cell_type": "code",
   "execution_count": 10,
   "metadata": {},
   "outputs": [],
   "source": [
    "z = scaler.inverse_transform(np.array(pred).reshape(-1,1))"
   ]
  },
  {
   "cell_type": "code",
   "execution_count": 11,
   "metadata": {},
   "outputs": [
    {
     "data": {
      "text/plain": [
       "array([[  72.99999747],\n",
       "       [ 107.00000026],\n",
       "       [ 171.9999997 ],\n",
       "       [ 273.00000256],\n",
       "       [ 342.00000585],\n",
       "       [ 380.99999458],\n",
       "       [ 609.0000136 ],\n",
       "       [ 804.48691503],\n",
       "       [1101.55063596],\n",
       "       [1443.75512678],\n",
       "       [1767.47133737],\n",
       "       [2028.82264344],\n",
       "       [2269.00922334],\n",
       "       [2489.30225981]])"
      ]
     },
     "execution_count": 11,
     "metadata": {},
     "output_type": "execute_result"
    }
   ],
   "source": [
    "z"
   ]
  },
  {
   "cell_type": "code",
   "execution_count": 12,
   "metadata": {},
   "outputs": [
    {
     "data": {
      "text/plain": [
       "(array([61.]), array([71.]))"
      ]
     },
     "execution_count": 12,
     "metadata": {},
     "output_type": "execute_result"
    },
    {
     "data": {
      "image/png": "[encoded data removed]",
      "text/plain": [
       "<Figure size 864x432 with 1 Axes>"
      ]
     },
     "metadata": {
      "needs_background": "light"
     },
     "output_type": "display_data"
    }
   ],
   "source": [
    "plt.figure(figsize=(12,6))\n",
    "plt.plot(df2['Essex, New Jersey, US'])\n",
    "plt.plot(['3/27/20','3/28/20','3/29/20','3/30/20','3/31/20','4/1/20','4/2/20'],z[-7:])\n",
    "plt.xlim(('3/23/20','4/2/20'))"
   ]
  },
  {
   "cell_type": "code",
   "execution_count": null,
   "metadata": {},
   "outputs": [],
   "source": []
  },
  {
   "cell_type": "code",
   "execution_count": 13,
   "metadata": {},
   "outputs": [],
   "source": [
    "all_data_norm = scaler.fit_transform(df2['Essex, New Jersey, US'].values.astype('float64').reshape(-1,1))\n",
    "all_data_norm = torch.FloatTensor(all_data_norm).view(-1)\n",
    "all_data = input_data(all_data_norm,7)"
   ]
  },
  {
   "cell_type": "code",
   "execution_count": 14,
   "metadata": {},
   "outputs": [
    {
     "name": "stdout",
     "output_type": "stream",
     "text": [
      "epoch: 0 loss: 0.3002045452594757\n"
     ]
    }
   ],
   "source": [
    "epochs = 1\n",
    "losses = []\n",
    "\n",
    "for i in range(epochs):\n",
    "    for seq, y_train in all_data:\n",
    "        optimizer.zero_grad()\n",
    "        model.hidden = (torch.zeros(1,1,model.hidden_size), torch.zeros(1,1,model.hidden_size))\n",
    "        y_pred = model(seq)\n",
    "        loss = (criterion(y_pred, y_train))\n",
    "        loss.backward()\n",
    "        optimizer.step()\n",
    "    print(f'epoch: {i} loss: {loss.item()}')\n",
    "    losses.append(loss.item())"
   ]
  },
  {
   "cell_type": "code",
   "execution_count": 15,
   "metadata": {},
   "outputs": [],
   "source": [
    "pred = all_data_norm[-7:].tolist()\n",
    "for i in range(future):\n",
    "    with torch.no_grad():\n",
    "        seq = torch.FloatTensor(pred[-7:])\n",
    "        model.hidden = (torch.zeros(1,1,model.hidden_size), torch.zeros(1,1,model.hidden_size))\n",
    "        pred.append(model(seq).item())\n",
    "        "
   ]
  },
  {
   "cell_type": "code",
   "execution_count": 16,
   "metadata": {},
   "outputs": [
    {
     "data": {
      "text/plain": [
       "[5.573267936706543,\n",
       " 6.522406578063965,\n",
       " 7.382699966430664,\n",
       " 8.271406173706055,\n",
       " 9.016265869140625,\n",
       " 9.641725540161133,\n",
       " 10.15676498413086]"
      ]
     },
     "execution_count": 16,
     "metadata": {},
     "output_type": "execute_result"
    }
   ],
   "source": [
    "pred[-7:]"
   ]
  },
  {
   "cell_type": "code",
   "execution_count": 17,
   "metadata": {},
   "outputs": [],
   "source": [
    "z = scaler.inverse_transform(np.array(pred).reshape(-1,1))"
   ]
  },
  {
   "cell_type": "code",
   "execution_count": 18,
   "metadata": {},
   "outputs": [
    {
     "data": {
      "text/plain": [
       "array([[ 825.99998576],\n",
       "       [1085.99999319],\n",
       "       [1226.99999745],\n",
       "       [1563.99997767],\n",
       "       [1899.99997196],\n",
       "       [2261.99997321],\n",
       "       [2617.000073  ],\n",
       "       [3095.09851458],\n",
       "       [3589.99159791],\n",
       "       [4038.55962474],\n",
       "       [4501.94246043],\n",
       "       [4890.32187653],\n",
       "       [5216.44458569],\n",
       "       [5484.99276966]])"
      ]
     },
     "execution_count": 18,
     "metadata": {},
     "output_type": "execute_result"
    }
   ],
   "source": [
    "z"
   ]
  },
  {
   "cell_type": "code",
   "execution_count": 19,
   "metadata": {},
   "outputs": [
    {
     "data": {
      "text/plain": [
       "(array([61.]), array([78.]))"
      ]
     },
     "execution_count": 19,
     "metadata": {},
     "output_type": "execute_result"
    },
    {
     "data": {
      "image/png": "[encoded data removed]",
      "text/plain": [
       "<Figure size 864x432 with 1 Axes>"
      ]
     },
     "metadata": {
      "needs_background": "light"
     },
     "output_type": "display_data"
    }
   ],
   "source": [
    "plt.figure(figsize=(12,6))\n",
    "plt.plot(df2['Essex, New Jersey, US'])\n",
    "plt.plot(['4/3/20','4/4/20','4/5/20','4/6/20','4/7/20','4/8/20','4/9/20'],z[-7:])\n",
    "plt.xlim(('3/23/20','4/9/20'))"
   ]
  },
  {
   "cell_type": "code",
   "execution_count": null,
   "metadata": {},
   "outputs": [],
   "source": []
  }
 ],
 "metadata": {
  "kernelspec": {
   "display_name": "Python 3",
   "language": "python",
   "name": "python3"
  },
  "language_info": {
   "codemirror_mode": {
    "name": "ipython",
    "version": 3
   },
   "file_extension": ".py",
   "mimetype": "text/x-python",
   "name": "python",
   "nbconvert_exporter": "python",
   "pygments_lexer": "ipython3",
   "version": "3.7.3"
  }
 },
 "nbformat": 4,
 "nbformat_minor": 4
}
