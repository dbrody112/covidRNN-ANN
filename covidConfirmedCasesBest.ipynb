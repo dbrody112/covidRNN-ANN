{
 "cells": [
  {
   "cell_type": "code",
   "execution_count": 12,
   "metadata": {},
   "outputs": [],
   "source": [
    "import torch\n",
    "import torch.nn as nn\n",
    "from sklearn.preprocessing import RobustScaler, StandardScaler, MinMaxScaler, PowerTransformer\n",
    "import numpy as np\n",
    "import pandas as pd\n",
    "import matplotlib.pyplot as plt\n",
    "import torch\n",
    "import torch.nn as nn\n",
    "import torch.nn.functional as F\n",
    "%matplotlib inline\n",
    "\n",
    "df = pd.read_csv('../Time Series Data/time_series_covid_19_confirmed.csv')\n",
    "df.dropna(inplace = True)\n",
    "x = np.arange('2020-01-22', '2020-04-21', dtype = 'datetime64[D]')\n",
    "#df['Country/Region Code'] = df['Country/Region'].astype('category').cat.codes.values\n",
    "#df['Province/State Code'] =  df['Province/State'].astype('category').cat.codes.values\n",
    "a = df.drop(['Country/Region', 'Province/State', 'Lat', 'Long'], axis = 1, inplace  = False)\n",
    "df2 = pd.DataFrame()\n",
    "for i,name in enumerate(df['Country/Region']):\n",
    "    df2[name + \" : \" + df['Province/State'].iloc[i]] = a.iloc[i]\n",
    "    "
   ]
  },
  {
   "cell_type": "code",
   "execution_count": 67,
   "metadata": {},
   "outputs": [],
   "source": [
    "def plotGraph(name):\n",
    "    plt.figure(figsize = (12,10))\n",
    "    plt.title(name)\n",
    "    plt.plot(df2[name])\n",
    "    plt.autoscale(axis='x',tight=True)\n",
    "    plt.xlim(('3/13/20','4/2/20'))\n",
    "\n",
    "def test_train(name,test_size,num):\n",
    "    m = df2[name].values.astype(float)\n",
    "    train_set = m[num:-test_size]\n",
    "    test_set = m[-test_size:]\n",
    "    return train_set, test_set\n",
    "\n",
    "def input_data(seq,ws):\n",
    "    out = []\n",
    "    L = len(seq)\n",
    "    for i in range(L-ws):\n",
    "        window = seq[i:i+ws]\n",
    "        label = seq[i+ws:i+ws+1]\n",
    "        out.append((window,label))\n",
    "    return out\n",
    "\n",
    "\n",
    "    scaler = PowerTransformer(method='box-cox', standardize=False)\n",
    "    x_norm2 = scaler.fit_transform(train_set.reshape(-1,1))\n",
    "    train_norms = torch.FloatTensor(x_norm2).view(-1)\n",
    "    \n",
    "\n",
    "def training(epoch, train_data, losses):\n",
    "    for i in range(epoch):\n",
    "        for seq,y_train in train_data:\n",
    "            optimizer.zero_grad()\n",
    "            model.hidden = (torch.zeros(1,1,model.hidden_size), torch.zeros(1,1,model.hidden_size))\n",
    "            y_pred = model(seq)\n",
    "            loss = torch.sqrt(criterion(y_pred, y_train))\n",
    "            loss.backward()\n",
    "            optimizer.step()\n",
    "        print(f'epoch: {i} loss: {loss.item()}')\n",
    "        losses.append(loss.item())\n",
    "\n",
    "    \n",
    "\n"
   ]
  },
  {
   "cell_type": "code",
   "execution_count": 131,
   "metadata": {},
   "outputs": [
    {
     "data": {
      "image/png": "[encoded data removed]",
      "text/plain": [
       "<Figure size 864x720 with 1 Axes>"
      ]
     },
     "metadata": {
      "needs_background": "light"
     },
     "output_type": "display_data"
    }
   ],
   "source": [
    "plotGraph('Australia : Northern Territory')\n",
    "train_set,test_set = test_train('Australia : Northern Territory',7,50)"
   ]
  },
  {
   "cell_type": "code",
   "execution_count": 157,
   "metadata": {},
   "outputs": [],
   "source": [
    "class LSTMcell(nn.Module):\n",
    "    def __init__(self, input_size = 1, hidden_size = 50, output_size = 1):\n",
    "        super().__init__()\n",
    "        self.hidden_size = hidden_size\n",
    "        self.lstm = nn.LSTM(input_size, hidden_size)\n",
    "        self.linear = nn.Linear(hidden_size, output_size)\n",
    "        self.hidden = (torch.zeros(1,1,self.hidden_size), torch.zeros(1,1,self.hidden_size))\n",
    "        \n",
    "    def forward(self, seq):\n",
    "        lstm_out, self.hidden = self.lstm(seq.view(len(seq),1,-1), self.hidden)\n",
    "        pred = self.linear(lstm_out.view(len(seq),-1))\n",
    "        return pred[-1]"
   ]
  },
  {
   "cell_type": "code",
   "execution_count": 158,
   "metadata": {},
   "outputs": [
    {
     "data": {
      "text/plain": [
       "LSTMcell(\n",
       "  (lstm): LSTM(1, 50)\n",
       "  (linear): Linear(in_features=50, out_features=1, bias=True)\n",
       ")"
      ]
     },
     "execution_count": 158,
     "metadata": {},
     "output_type": "execute_result"
    }
   ],
   "source": [
    "model = LSTMcell()\n",
    "criterion = nn.MSELoss()\n",
    "optimizer = torch.optim.Adam(model.parameters(),lr = 0.001)\n",
    "model"
   ]
  },
  {
   "cell_type": "code",
   "execution_count": 159,
   "metadata": {},
   "outputs": [],
   "source": [
    "scaler = PowerTransformer(method='box-cox', standardize=False)\n",
    "x_norm2 = scaler.fit_transform(train_set.reshape(-1,1))\n",
    "train_norms = torch.FloatTensor(x_norm2).view(-1)\n",
    "    "
   ]
  },
  {
   "cell_type": "code",
   "execution_count": 92,
   "metadata": {},
   "outputs": [],
   "source": []
  },
  {
   "cell_type": "code",
   "execution_count": 79,
   "metadata": {},
   "outputs": [
    {
     "data": {
      "text/plain": [
       "[(tensor([0., 0., 0., 0., 0.]), tensor([0.])),\n",
       " (tensor([0., 0., 0., 0., 0.]), tensor([0.])),\n",
       " (tensor([0., 0., 0., 0., 0.]), tensor([0.])),\n",
       " (tensor([0., 0., 0., 0., 0.]), tensor([0.9375])),\n",
       " (tensor([0.0000, 0.0000, 0.0000, 0.0000, 0.9375]), tensor([0.9375])),\n",
       " (tensor([0.0000, 0.0000, 0.0000, 0.9375, 0.9375]), tensor([1.2797])),\n",
       " (tensor([0.0000, 0.0000, 0.9375, 0.9375, 1.2797]), tensor([1.2797])),\n",
       " (tensor([0.0000, 0.9375, 0.9375, 1.2797, 1.2797]), tensor([1.3898])),\n",
       " (tensor([0.9375, 0.9375, 1.2797, 1.2797, 1.3898]), tensor([1.3898])),\n",
       " (tensor([0.9375, 1.2797, 1.2797, 1.3898, 1.3898]), tensor([1.7580])),\n",
       " (tensor([1.2797, 1.2797, 1.3898, 1.3898, 1.7580]), tensor([1.7580])),\n",
       " (tensor([1.2797, 1.3898, 1.3898, 1.7580, 1.7580]), tensor([1.8613]))]"
      ]
     },
     "execution_count": 79,
     "metadata": {},
     "output_type": "execute_result"
    }
   ],
   "source": [
    "train_data"
   ]
  },
  {
   "cell_type": "code",
   "execution_count": 160,
   "metadata": {},
   "outputs": [
    {
     "name": "stdout",
     "output_type": "stream",
     "text": [
      "epoch: 0 loss: 1.4241119623184204\n",
      "epoch: 1 loss: 1.2943586111068726\n",
      "epoch: 2 loss: 1.1341631412506104\n",
      "epoch: 3 loss: 0.8784210681915283\n",
      "epoch: 4 loss: 0.397988498210907\n",
      "epoch: 5 loss: 0.14142930507659912\n",
      "epoch: 6 loss: 0.2166358232498169\n",
      "epoch: 7 loss: 0.08552849292755127\n",
      "epoch: 8 loss: 0.12294256687164307\n",
      "epoch: 9 loss: 0.10813760757446289\n"
     ]
    }
   ],
   "source": [
    "epochs = 10\n",
    "losses = []\n",
    "train_data = input_data(train_norms,7)\n",
    "for i in range(epochs):\n",
    "    for seq, y_train in train_data:\n",
    "        optimizer.zero_grad()\n",
    "        model.hidden = (torch.zeros(1,1,model.hidden_size), torch.zeros(1,1,model.hidden_size))\n",
    "        y_pred = model(seq)\n",
    "        loss = torch.sqrt(criterion(y_pred, y_train))\n",
    "        loss.backward()\n",
    "        optimizer.step()\n",
    "    print(f'epoch: {i} loss: {loss.item()}')\n",
    "    losses.append(loss.item())\n"
   ]
  },
  {
   "cell_type": "code",
   "execution_count": 161,
   "metadata": {},
   "outputs": [],
   "source": [
    "window_size = 7\n",
    "future = 7\n",
    "pred = train_norms[-window_size:].tolist()\n",
    "for i in range(future):\n",
    "    with torch.no_grad():\n",
    "        seq = torch.FloatTensor(pred[-window_size:])\n",
    "        model.hidden = (torch.zeros(1,1,model.hidden_size), torch.zeros(1,1,model.hidden_size))\n",
    "        pred.append(model(seq).item())\n",
    "    "
   ]
  },
  {
   "cell_type": "code",
   "execution_count": 162,
   "metadata": {},
   "outputs": [
    {
     "data": {
      "text/plain": [
       "[1.3748762607574463,\n",
       " 1.4074329137802124,\n",
       " 1.438897728919983,\n",
       " 1.459157943725586,\n",
       " 1.4792824983596802,\n",
       " 1.4960062503814697,\n",
       " 1.5120047330856323]"
      ]
     },
     "execution_count": 162,
     "metadata": {},
     "output_type": "execute_result"
    }
   ],
   "source": [
    "pred[-7:]"
   ]
  },
  {
   "cell_type": "code",
   "execution_count": 163,
   "metadata": {},
   "outputs": [],
   "source": [
    "z = scaler.inverse_transform(np.array(pred).reshape(-1,1))"
   ]
  },
  {
   "cell_type": "code",
   "execution_count": 164,
   "metadata": {},
   "outputs": [
    {
     "data": {
      "text/plain": [
       "array([[ 2.99999986],\n",
       "       [ 2.99999986],\n",
       "       [ 5.00000069],\n",
       "       [ 5.00000069],\n",
       "       [ 6.00000092],\n",
       "       [ 6.00000092],\n",
       "       [11.99999748],\n",
       "       [11.76562954],\n",
       "       [13.32560891],\n",
       "       [15.15574198],\n",
       "       [16.54614679],\n",
       "       [18.13031557],\n",
       "       [19.6307077 ],\n",
       "       [21.25158897]])"
      ]
     },
     "execution_count": 164,
     "metadata": {},
     "output_type": "execute_result"
    }
   ],
   "source": [
    "z"
   ]
  },
  {
   "cell_type": "code",
   "execution_count": 165,
   "metadata": {},
   "outputs": [
    {
     "data": {
      "text/plain": [
       "[<matplotlib.lines.Line2D at 0x1e2ccf5cfd0>]"
      ]
     },
     "execution_count": 165,
     "metadata": {},
     "output_type": "execute_result"
    },
    {
     "data": {
      "image/png": "[encoded data removed]",
      "text/plain": [
       "<Figure size 864x432 with 1 Axes>"
      ]
     },
     "metadata": {
      "needs_background": "light"
     },
     "output_type": "display_data"
    }
   ],
   "source": [
    "plt.figure(figsize=(12,6))\n",
    "plt.plot(df2['Australia : Northern Territory'])\n",
    "plt.plot(['3/27/20','3/28/20','3/29/20','3/30/20','3/31/20','4/1/20','4/2/20'],z[-7:])\n"
   ]
  },
  {
   "cell_type": "code",
   "execution_count": 166,
   "metadata": {},
   "outputs": [],
   "source": [
    "torch.save(model.state_dict(), \"../Extra Data/covidFor7PointsInsteadof5.pt\")"
   ]
  },
  {
   "cell_type": "code",
   "execution_count": null,
   "metadata": {},
   "outputs": [],
   "source": []
  },
  {
   "cell_type": "code",
   "execution_count": null,
   "metadata": {},
   "outputs": [],
   "source": []
  },
  {
   "cell_type": "code",
   "execution_count": null,
   "metadata": {},
   "outputs": [],
   "source": []
  }
 ],
 "metadata": {
  "kernelspec": {
   "display_name": "Python 3",
   "language": "python",
   "name": "python3"
  },
  "language_info": {
   "codemirror_mode": {
    "name": "ipython",
    "version": 3
   },
   "file_extension": ".py",
   "mimetype": "text/x-python",
   "name": "python",
   "nbconvert_exporter": "python",
   "pygments_lexer": "ipython3",
   "version": "3.7.3"
  }
 },
 "nbformat": 4,
 "nbformat_minor": 4
}
